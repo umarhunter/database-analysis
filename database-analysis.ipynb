{
 "cells": [
  {
   "metadata": {},
   "cell_type": "markdown",
   "source": [
    "## Database Analysis\n",
    "This notebook begins by outlining a scenario that anyone who works for an entity that collects customer/client data will encounter. This use-case is the possibility of a new batch of incoming electronic data containing errors. \n",
    "\n",
    "\n",
    "There are some steps and computations I'll be performing on this:\n",
    "1. Identify possible problems with the data\n",
    "2. Attempt to mitigate the issues as much as possible\n",
    "3. Report all discrepancies with detailed logs of why a row is labeled as erroneous. \n",
    "\n",
    "The Python script will allow the user to set parameters or arguments easily (rather than going into this notebook and manually changing everything). "
   ],
   "id": "96cca71810817aa"
  },
  {
   "cell_type": "code",
   "id": "initial_id",
   "metadata": {
    "collapsed": true
   },
   "source": "import pandas as pd",
   "outputs": [],
   "execution_count": null
  },
  {
   "cell_type": "code",
   "id": "7a9585a31128b900",
   "metadata": {},
   "source": [
    "database_df = pd.read_csv('data/database.csv') # replace this file with whatever the database file is\n",
    "print(database_df.head())"
   ],
   "outputs": [],
   "execution_count": null
  },
  {
   "metadata": {},
   "cell_type": "code",
   "source": [
    "target_df = pd.read_csv('data/target.csv') # replace this file with whatever the database file is\n",
    "print(target_df.head())"
   ],
   "id": "fea18e6e721bf540",
   "outputs": [],
   "execution_count": null
  },
  {
   "metadata": {},
   "cell_type": "code",
   "source": "print(target_df.isin(database_df))",
   "id": "79b6e5574ccb364d",
   "outputs": [],
   "execution_count": null
  },
  {
   "metadata": {},
   "cell_type": "markdown",
   "source": [
    "### __Data Validation__\n",
    "\n",
    "#### Missing Data\n",
    "Missing in this case means rows containing elements that are not present in the database using an __outer join__. For more information on this SQL style command: https://pandas.pydata.org/docs/reference/api/pandas.merge.html#pandas.merge"
   ],
   "id": "7e5d4a5dd95c0095"
  },
  {
   "metadata": {},
   "cell_type": "code",
   "source": [
    "missing_df = pd.merge(database_df, target_df, how='outer', indicator=True)\n",
    "missing_df = missing_df[missing_df._merge != 'both']\n",
    "missing_df"
   ],
   "id": "b6bd1df99c0bc3ac",
   "outputs": [],
   "execution_count": null
  },
  {
   "metadata": {},
   "cell_type": "markdown",
   "source": [
    "Before we add these to our database, we should make sure they aren't duplicates. In this case, we can validate their identities using some form of identification (like this datasets GUID). Depending on different scenarios, a business could require every client to have a different ```guid```, or in other cases they might have overlapping ID's. For our use case we will assume that ID's should __not__ be duplicated.\n",
    "\n",
    "Luckily ```pandas``` supports an easy way for us to check if values in one column are present in another dataframe using ```isin```."
   ],
   "id": "bee7bd79b645c279"
  },
  {
   "metadata": {},
   "cell_type": "code",
   "source": "missing_df.guid.isin(database_df.guid).astype(int)",
   "id": "21df0688906b657",
   "outputs": [],
   "execution_count": null
  },
  {
   "metadata": {},
   "cell_type": "code",
   "source": "",
   "id": "4a51dd1146549820",
   "outputs": [],
   "execution_count": null
  }
 ],
 "metadata": {
  "kernelspec": {
   "display_name": "Python 3 (ipykernel)",
   "language": "python",
   "name": "python3"
  },
  "language_info": {
   "codemirror_mode": {
    "name": "ipython",
    "version": 3
   },
   "file_extension": ".py",
   "mimetype": "text/x-python",
   "name": "python",
   "nbconvert_exporter": "python",
   "pygments_lexer": "ipython3",
   "version": "3.11.5"
  }
 },
 "nbformat": 4,
 "nbformat_minor": 5
}
